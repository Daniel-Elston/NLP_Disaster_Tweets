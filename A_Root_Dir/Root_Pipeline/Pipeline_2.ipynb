{
 "cells": [
  {
   "cell_type": "code",
   "execution_count": 1,
   "metadata": {},
   "outputs": [],
   "source": [
    "import sys\n",
    "import os\n",
    "root_dir = 'C:/Users/delst/OneDrive/Desktop/Code/Workspace/NLP_Disaster_Tweets'\n",
    "sys.path.append(root_dir)\n",
    "\n",
    "# Configure Environment\n",
    "from A_Root_Dir.Configurations.setup_env import setup_environment\n",
    "config = setup_environment(root_dir)\n",
    "\n",
    "# File Paths - Raw Data\n",
    "raw_data_path_train = config.raw_data_train\n",
    "raw_data_path_val = config.raw_data_val\n",
    "raw_data_path_test = config.raw_data_test\n",
    "\n",
    "# File Paths - Serialised Data Object Stores \n",
    "sdo_pkl = config.sdo_pkl\n",
    "sdo_parq = config.sdo_parq\n",
    "\n",
    "glove_input_dir = config.GloVe_input_dir\n",
    "glove_output_dir = config.GloVe_output_dir"
   ]
  },
  {
   "cell_type": "code",
   "execution_count": 2,
   "metadata": {},
   "outputs": [],
   "source": [
    "# Libraries Import\n",
    "path_dependencies = 'Libraries/dependencies.py'\n",
    "\n",
    "dependencies_dir  = os.path.join(root_dir, path_dependencies)\n",
    "with open(dependencies_dir, 'r') as file:\n",
    "    exec(file.read())"
   ]
  },
  {
   "cell_type": "code",
   "execution_count": 3,
   "metadata": {},
   "outputs": [],
   "source": [
    "# Class Imports\n",
    "from Modularization.initial_process import InitialDataProcessing\n",
    "from Modularization.initial_process import InitialTextProcessing\n",
    "\n",
    "from Modularization.corpus_creation import CorpusBowCreator, load_corpus_bow\n",
    "\n",
    "from Modularization.feature_extraction import FeatureExtractor\n",
    "\n",
    "from Modularization.preprocessing import Preprocessor\n",
    "from Modularization.preprocessing import Embeddings \n",
    "\n",
    "from Modularization.feature_engineering import FeatureEngineer\n",
    "\n",
    "from Modularization.model_select import ModelSelection\n",
    "\n",
    "from Modularization.model_training import ModelTrainer\n"
   ]
  },
  {
   "cell_type": "code",
   "execution_count": 4,
   "metadata": {},
   "outputs": [],
   "source": [
    "# Pipeline Parameters\n",
    "fig_size = config.fig_size_m\n",
    "raw_dtype = config.raw_dtype\n",
    "true_dtype = config.true_dtype\n",
    "\n",
    "drop_cols = config.drop_cols\n",
    "text_col = config.text_col\n",
    "token_col = config.token_col\n",
    "keyword_col = config.keyword_col\n",
    "target_col = config.target_col\n",
    "selected_features = config.selected_features"
   ]
  },
  {
   "cell_type": "code",
   "execution_count": 5,
   "metadata": {},
   "outputs": [
    {
     "name": "stderr",
     "output_type": "stream",
     "text": [
      "C:\\Users\\delst\\AppData\\Local\\Temp\\ipykernel_8568\\1537183390.py:4: DeprecationWarning: Call to deprecated `glove2word2vec` (KeyedVectors.load_word2vec_format(.., binary=False, no_header=True) loads GLoVE text vectors.).\n",
      "  glove2word2vec(glove_input_file, word2vec_output_file)\n"
     ]
    }
   ],
   "source": [
    "# Embedding Files\n",
    "glove_input_file = os.path.join(glove_input_dir, 'glove.twitter.27B.25d.txt')\n",
    "word2vec_output_file = os.path.join(glove_output_dir, 'glove.twitter.27B.25d.txt.word2vec')\n",
    "glove2word2vec(glove_input_file, word2vec_output_file)\n",
    "\n",
    "embed_model = KeyedVectors.load_word2vec_format(word2vec_output_file, binary=False)"
   ]
  },
  {
   "cell_type": "markdown",
   "metadata": {},
   "source": [
    "---"
   ]
  },
  {
   "cell_type": "markdown",
   "metadata": {},
   "source": [
    "# **Raw Data Load**"
   ]
  },
  {
   "cell_type": "code",
   "execution_count": 6,
   "metadata": {},
   "outputs": [],
   "source": [
    "df_train = pd.read_csv(raw_data_path_train)\n",
    "df_val = pd.read_csv(raw_data_path_val)\n",
    "df_test = pd.read_csv(raw_data_path_test)"
   ]
  },
  {
   "cell_type": "markdown",
   "metadata": {},
   "source": [
    "---"
   ]
  },
  {
   "cell_type": "markdown",
   "metadata": {},
   "source": [
    "# **Training Pipeline**"
   ]
  },
  {
   "cell_type": "code",
   "execution_count": 7,
   "metadata": {},
   "outputs": [],
   "source": [
    "models = {\n",
    "    'SVM': SVC(),\n",
    "    'SGD': SGDClassifier(),\n",
    "    'RandomForest': RandomForestClassifier(max_depth=8, n_estimators=120),\n",
    "    'GBM': GradientBoostingClassifier(),\n",
    "    'LGBM': LGBMClassifier(),\n",
    "    'XGB': XGBClassifier()\n",
    "    }"
   ]
  },
  {
   "cell_type": "code",
   "execution_count": 8,
   "metadata": {},
   "outputs": [
    {
     "name": "stderr",
     "output_type": "stream",
     "text": [
      "C:\\Users/delst/OneDrive/Desktop/Code/Workspace/NLP_Disaster_Tweets\\Modularization\\initial_process.py:111: FutureWarning: The default value of regex will change from True to False in a future version.\n",
      "  self.df[self.text_col] = self.df[self.text_col].str.replace(r'\\s*http?://\\S+(\\s+|$)', ' ').str.strip()\n"
     ]
    }
   ],
   "source": [
    "def training_pipeline(\n",
    "    df: pd.DataFrame,\n",
    "    true_dtype:dict,\n",
    "    drop_cols:list,\n",
    "    text_col:str,\n",
    "    token_col:str,\n",
    "    keyword_col:str,\n",
    "    embed_n_features:int,\n",
    "    selected_features,\n",
    "    models\n",
    "    ):\n",
    "    \n",
    "    # Initial Processing\n",
    "    initial_text_processor = InitialTextProcessing(df, text_col, token_col)\n",
    "    df = initial_text_processor.remove_urls()\n",
    "    df = initial_text_processor.transform_to_lowercase()\n",
    "    df = initial_text_processor.apply_remove_chars()\n",
    "\n",
    "    initial_processor = InitialDataProcessing(df)\n",
    "    df = initial_processor.transform_dtypes(true_dtype)\n",
    "    df = initial_processor.dup_nan_drop(drop_cols)\n",
    "    \n",
    "    initial_text_processor = InitialTextProcessing(df, text_col, token_col)\n",
    "    tokenizer = TweetTokenizer()\n",
    "    df = initial_text_processor.fix_contractions()\n",
    "    df = initial_text_processor.tokenize_text(tokenizer)\n",
    "    \n",
    "    # Corpus Creation\n",
    "    \n",
    "    # Feature Extraction\n",
    "    feature_extractor = FeatureExtractor(df, token_col)\n",
    "    df = feature_extractor.extract()\n",
    "    \n",
    "    # Preprocessing\n",
    "    preprocessor = Preprocessor(df, token_col)\n",
    "    lemmatize_tokens = preprocessor.apply_lemmatizer()\n",
    "    \n",
    "    embedder = Embeddings(embed_model, embed_n_features)\n",
    "    glove_vectorised_tokens = embedder.averaged_word_vectorizer(df[token_col])\n",
    "    glove_vectorised_keyword = embedder.averaged_word_vectorizer(df[keyword_col])\n",
    "    \n",
    "    # Feature Engineering\n",
    "    sia = SentimentIntensityAnalyzer()\n",
    "    feature_engineering = FeatureEngineer(df, token_col, text_col, sia)\n",
    "    df = feature_engineering.generate_counts()\n",
    "    df = feature_engineering.generate_sentiment_score()\n",
    "    \n",
    "    # Input Data Formulation\n",
    "    target = df[target_col].to_numpy()\n",
    "    numerical_features = df[selected_features].to_numpy()\n",
    "    \n",
    "    X_train = np.concatenate(\n",
    "        (\n",
    "        glove_vectorised_tokens, \n",
    "        glove_vectorised_keyword, \n",
    "        numerical_features\n",
    "        ), \n",
    "        axis=1)\n",
    "    \n",
    "    Y_train = target\n",
    "    \n",
    "    # Model Selection    \n",
    "    skf = StratifiedKFold(n_splits=9, random_state=42, shuffle=True)\n",
    "\n",
    "    model_selection = ModelSelection(models, X_train, Y_train, skf)\n",
    "    model_evaluation = model_selection.evaluate_models()\n",
    "    # model_selection_report = model_selection.print_report()\n",
    "    best_model_name = model_selection.get_best_model()\n",
    "\n",
    "    # Model Training\n",
    "    use_model = models[best_model_name]\n",
    "    model_trainer = ModelTrainer(use_model, X_train, Y_train, skf)\n",
    "    trained_model = model_trainer.train_model()\n",
    "    \n",
    "    return trained_model, embedder\n",
    "\n",
    "embed_n_features = 25\n",
    "skf_n_splits = 9\n",
    "skf_random_state = 42\n",
    "\n",
    "trained_model, embedder = training_pipeline(\n",
    "    df_train, \n",
    "    true_dtype, \n",
    "    drop_cols, \n",
    "    text_col, \n",
    "    token_col, \n",
    "    keyword_col, \n",
    "    embed_n_features,\n",
    "    selected_features,\n",
    "    models\n",
    "    )"
   ]
  },
  {
   "cell_type": "code",
   "execution_count": 9,
   "metadata": {},
   "outputs": [
    {
     "data": {
      "text/html": [
       "<style>#sk-container-id-1 {color: black;background-color: white;}#sk-container-id-1 pre{padding: 0;}#sk-container-id-1 div.sk-toggleable {background-color: white;}#sk-container-id-1 label.sk-toggleable__label {cursor: pointer;display: block;width: 100%;margin-bottom: 0;padding: 0.3em;box-sizing: border-box;text-align: center;}#sk-container-id-1 label.sk-toggleable__label-arrow:before {content: \"▸\";float: left;margin-right: 0.25em;color: #696969;}#sk-container-id-1 label.sk-toggleable__label-arrow:hover:before {color: black;}#sk-container-id-1 div.sk-estimator:hover label.sk-toggleable__label-arrow:before {color: black;}#sk-container-id-1 div.sk-toggleable__content {max-height: 0;max-width: 0;overflow: hidden;text-align: left;background-color: #f0f8ff;}#sk-container-id-1 div.sk-toggleable__content pre {margin: 0.2em;color: black;border-radius: 0.25em;background-color: #f0f8ff;}#sk-container-id-1 input.sk-toggleable__control:checked~div.sk-toggleable__content {max-height: 200px;max-width: 100%;overflow: auto;}#sk-container-id-1 input.sk-toggleable__control:checked~label.sk-toggleable__label-arrow:before {content: \"▾\";}#sk-container-id-1 div.sk-estimator input.sk-toggleable__control:checked~label.sk-toggleable__label {background-color: #d4ebff;}#sk-container-id-1 div.sk-label input.sk-toggleable__control:checked~label.sk-toggleable__label {background-color: #d4ebff;}#sk-container-id-1 input.sk-hidden--visually {border: 0;clip: rect(1px 1px 1px 1px);clip: rect(1px, 1px, 1px, 1px);height: 1px;margin: -1px;overflow: hidden;padding: 0;position: absolute;width: 1px;}#sk-container-id-1 div.sk-estimator {font-family: monospace;background-color: #f0f8ff;border: 1px dotted black;border-radius: 0.25em;box-sizing: border-box;margin-bottom: 0.5em;}#sk-container-id-1 div.sk-estimator:hover {background-color: #d4ebff;}#sk-container-id-1 div.sk-parallel-item::after {content: \"\";width: 100%;border-bottom: 1px solid gray;flex-grow: 1;}#sk-container-id-1 div.sk-label:hover label.sk-toggleable__label {background-color: #d4ebff;}#sk-container-id-1 div.sk-serial::before {content: \"\";position: absolute;border-left: 1px solid gray;box-sizing: border-box;top: 0;bottom: 0;left: 50%;z-index: 0;}#sk-container-id-1 div.sk-serial {display: flex;flex-direction: column;align-items: center;background-color: white;padding-right: 0.2em;padding-left: 0.2em;position: relative;}#sk-container-id-1 div.sk-item {position: relative;z-index: 1;}#sk-container-id-1 div.sk-parallel {display: flex;align-items: stretch;justify-content: center;background-color: white;position: relative;}#sk-container-id-1 div.sk-item::before, #sk-container-id-1 div.sk-parallel-item::before {content: \"\";position: absolute;border-left: 1px solid gray;box-sizing: border-box;top: 0;bottom: 0;left: 50%;z-index: -1;}#sk-container-id-1 div.sk-parallel-item {display: flex;flex-direction: column;z-index: 1;position: relative;background-color: white;}#sk-container-id-1 div.sk-parallel-item:first-child::after {align-self: flex-end;width: 50%;}#sk-container-id-1 div.sk-parallel-item:last-child::after {align-self: flex-start;width: 50%;}#sk-container-id-1 div.sk-parallel-item:only-child::after {width: 0;}#sk-container-id-1 div.sk-dashed-wrapped {border: 1px dashed gray;margin: 0 0.4em 0.5em 0.4em;box-sizing: border-box;padding-bottom: 0.4em;background-color: white;}#sk-container-id-1 div.sk-label label {font-family: monospace;font-weight: bold;display: inline-block;line-height: 1.2em;}#sk-container-id-1 div.sk-label-container {text-align: center;}#sk-container-id-1 div.sk-container {/* jupyter's `normalize.less` sets `[hidden] { display: none; }` but bootstrap.min.css set `[hidden] { display: none !important; }` so we also need the `!important` here to be able to override the default hidden behavior on the sphinx rendered scikit-learn.org. See: https://github.com/scikit-learn/scikit-learn/issues/21755 */display: inline-block !important;position: relative;}#sk-container-id-1 div.sk-text-repr-fallback {display: none;}</style><div id=\"sk-container-id-1\" class=\"sk-top-container\"><div class=\"sk-text-repr-fallback\"><pre>LGBMClassifier()</pre><b>In a Jupyter environment, please rerun this cell to show the HTML representation or trust the notebook. <br />On GitHub, the HTML representation is unable to render, please try loading this page with nbviewer.org.</b></div><div class=\"sk-container\" hidden><div class=\"sk-item\"><div class=\"sk-estimator sk-toggleable\"><input class=\"sk-toggleable__control sk-hidden--visually\" id=\"sk-estimator-id-1\" type=\"checkbox\" checked><label for=\"sk-estimator-id-1\" class=\"sk-toggleable__label sk-toggleable__label-arrow\">LGBMClassifier</label><div class=\"sk-toggleable__content\"><pre>LGBMClassifier()</pre></div></div></div></div></div>"
      ],
      "text/plain": [
       "LGBMClassifier()"
      ]
     },
     "execution_count": 9,
     "metadata": {},
     "output_type": "execute_result"
    }
   ],
   "source": [
    "trained_model"
   ]
  },
  {
   "cell_type": "code",
   "execution_count": 10,
   "metadata": {},
   "outputs": [
    {
     "data": {
      "text/plain": [
       "<Modularization.preprocessing.Embeddings at 0x1c392cff510>"
      ]
     },
     "execution_count": 10,
     "metadata": {},
     "output_type": "execute_result"
    }
   ],
   "source": [
    "embedder"
   ]
  },
  {
   "cell_type": "markdown",
   "metadata": {},
   "source": [
    "---"
   ]
  },
  {
   "attachments": {},
   "cell_type": "markdown",
   "metadata": {},
   "source": [
    "# **Validation Pipeline**"
   ]
  },
  {
   "cell_type": "code",
   "execution_count": 11,
   "metadata": {},
   "outputs": [
    {
     "name": "stderr",
     "output_type": "stream",
     "text": [
      "C:\\Users/delst/OneDrive/Desktop/Code/Workspace/NLP_Disaster_Tweets\\Modularization\\initial_process.py:111: FutureWarning: The default value of regex will change from True to False in a future version.\n",
      "  self.df[self.text_col] = self.df[self.text_col].str.replace(r'\\s*http?://\\S+(\\s+|$)', ' ').str.strip()\n"
     ]
    }
   ],
   "source": [
    "def validation_pipeline(\n",
    "    df: pd.DataFrame,\n",
    "    true_dtype:dict,\n",
    "    drop_cols:list,\n",
    "    text_col:str,\n",
    "    token_col:str,\n",
    "    keyword_col:str,\n",
    "    embed_n_features:int,\n",
    "    selected_features:list,\n",
    "    \n",
    "    trained_model:object,\n",
    "    embedder:object,\n",
    "    ):\n",
    "    \n",
    "    # Initial Processing\n",
    "    initial_text_processor = InitialTextProcessing(df, text_col, token_col)\n",
    "    df = initial_text_processor.remove_urls()\n",
    "    df = initial_text_processor.transform_to_lowercase()\n",
    "    df = initial_text_processor.apply_remove_chars()\n",
    "\n",
    "    initial_processor = InitialDataProcessing(df)\n",
    "    df = initial_processor.transform_dtypes(true_dtype)\n",
    "    df = initial_processor.dup_nan_drop(drop_cols)\n",
    "    \n",
    "    initial_text_processor = InitialTextProcessing(df, text_col, token_col)\n",
    "    tokenizer = TweetTokenizer()\n",
    "    df = initial_text_processor.fix_contractions()\n",
    "    df = initial_text_processor.tokenize_text(tokenizer)\n",
    "        \n",
    "    # Feature Extraction\n",
    "    feature_extractor = FeatureExtractor(df, token_col)\n",
    "    df = feature_extractor.extract()\n",
    "    \n",
    "    # Preprocessing\n",
    "    preprocessor = Preprocessor(df, token_col)\n",
    "    lemmatize_tokens = preprocessor.apply_lemmatizer()\n",
    "    \n",
    "    glove_vectorised_tokens = embedder.averaged_word_vectorizer(df[token_col])\n",
    "    glove_vectorised_keyword = embedder.averaged_word_vectorizer(df[keyword_col])\n",
    "    \n",
    "    # Feature Engineering\n",
    "    sia = SentimentIntensityAnalyzer()\n",
    "    feature_engineering = FeatureEngineer(df, token_col, text_col, sia)\n",
    "    df = feature_engineering.generate_counts()\n",
    "    df = feature_engineering.generate_sentiment_score()\n",
    "    \n",
    "    # Input Data Formulation\n",
    "    y_true = df[target_col].to_numpy()\n",
    "    numerical_features = df[selected_features].to_numpy()\n",
    "    \n",
    "    X_test = np.concatenate(\n",
    "        (\n",
    "        glove_vectorised_tokens, \n",
    "        glove_vectorised_keyword, \n",
    "        numerical_features\n",
    "        ), \n",
    "        axis=1)\n",
    "    \n",
    "    y_pred = trained_model.predict(X_test)\n",
    "\n",
    "    return y_true, y_pred\n",
    "\n",
    "embed_n_features = 25\n",
    "\n",
    "y_true, y_pred = validation_pipeline(\n",
    "    df_val, \n",
    "    true_dtype, \n",
    "    drop_cols, \n",
    "    text_col, \n",
    "    token_col, \n",
    "    keyword_col, \n",
    "    embed_n_features,\n",
    "    selected_features,\n",
    "    \n",
    "    trained_model,\n",
    "    embedder\n",
    "    )"
   ]
  },
  {
   "attachments": {},
   "cell_type": "markdown",
   "metadata": {},
   "source": [
    "---"
   ]
  },
  {
   "cell_type": "markdown",
   "metadata": {},
   "source": [
    "# **Testing Pipeline**"
   ]
  },
  {
   "cell_type": "code",
   "execution_count": 12,
   "metadata": {},
   "outputs": [
    {
     "name": "stderr",
     "output_type": "stream",
     "text": [
      "C:\\Users/delst/OneDrive/Desktop/Code/Workspace/NLP_Disaster_Tweets\\Modularization\\initial_process.py:111: FutureWarning: The default value of regex will change from True to False in a future version.\n",
      "  self.df[self.text_col] = self.df[self.text_col].str.replace(r'\\s*http?://\\S+(\\s+|$)', ' ').str.strip()\n"
     ]
    }
   ],
   "source": [
    "def testing_pipeline(\n",
    "    df: pd.DataFrame,\n",
    "    true_dtype:dict,\n",
    "    drop_cols:list,\n",
    "    text_col:str,\n",
    "    token_col:str,\n",
    "    keyword_col:str,\n",
    "    embed_n_features:int,\n",
    "    selected_features:list,\n",
    "    \n",
    "    trained_model:object,\n",
    "    embedder:object,\n",
    "    ):\n",
    "    \n",
    "    # Initial Processing\n",
    "    initial_text_processor = InitialTextProcessing(df, text_col, token_col)\n",
    "    df = initial_text_processor.remove_urls()\n",
    "    df = initial_text_processor.transform_to_lowercase()\n",
    "    df = initial_text_processor.apply_remove_chars()\n",
    "\n",
    "    initial_processor = InitialDataProcessing(df)\n",
    "    df = initial_processor.transform_dtypes(true_dtype)\n",
    "    df = initial_processor.dup_nan_drop(drop_cols)\n",
    "    \n",
    "    initial_text_processor = InitialTextProcessing(df, text_col, token_col)\n",
    "    tokenizer = TweetTokenizer()\n",
    "    df = initial_text_processor.fix_contractions()\n",
    "    df = initial_text_processor.tokenize_text(tokenizer)\n",
    "        \n",
    "    # Feature Extraction\n",
    "    feature_extractor = FeatureExtractor(df, token_col)\n",
    "    df = feature_extractor.extract()\n",
    "    \n",
    "    # Preprocessing\n",
    "    preprocessor = Preprocessor(df, token_col)\n",
    "    lemmatize_tokens = preprocessor.apply_lemmatizer()\n",
    "    \n",
    "    glove_vectorised_tokens = embedder.averaged_word_vectorizer(df[token_col])\n",
    "    glove_vectorised_keyword = embedder.averaged_word_vectorizer(df[keyword_col])\n",
    "    \n",
    "    # Feature Engineering\n",
    "    sia = SentimentIntensityAnalyzer()\n",
    "    feature_engineering = FeatureEngineer(df, token_col, text_col, sia)\n",
    "    df = feature_engineering.generate_counts()\n",
    "    df = feature_engineering.generate_sentiment_score()\n",
    "    \n",
    "    # Input Data Formulation\n",
    "    numerical_features = df[selected_features].to_numpy()\n",
    "    \n",
    "    X_test = np.concatenate(\n",
    "        (\n",
    "        glove_vectorised_tokens, \n",
    "        glove_vectorised_keyword, \n",
    "        numerical_features\n",
    "        ), \n",
    "        axis=1)\n",
    "    \n",
    "    predictions = trained_model.predict(X_test)\n",
    "\n",
    "    return predictions\n",
    "\n",
    "embed_n_features = 25\n",
    "\n",
    "predictions = testing_pipeline(\n",
    "    df_test, \n",
    "    true_dtype, \n",
    "    drop_cols, \n",
    "    text_col, \n",
    "    token_col, \n",
    "    keyword_col, \n",
    "    embed_n_features,\n",
    "    selected_features,\n",
    "    \n",
    "    trained_model,\n",
    "    embedder\n",
    "    )"
   ]
  },
  {
   "cell_type": "code",
   "execution_count": 13,
   "metadata": {},
   "outputs": [
    {
     "data": {
      "text/plain": [
       "array([0, 0, 1, ..., 0, 0, 0], dtype=int64)"
      ]
     },
     "execution_count": 13,
     "metadata": {},
     "output_type": "execute_result"
    }
   ],
   "source": [
    "predictions"
   ]
  },
  {
   "cell_type": "code",
   "execution_count": 14,
   "metadata": {},
   "outputs": [
    {
     "data": {
      "text/plain": [
       "(3237,)"
      ]
     },
     "execution_count": 14,
     "metadata": {},
     "output_type": "execute_result"
    }
   ],
   "source": [
    "np.shape(predictions)"
   ]
  },
  {
   "attachments": {},
   "cell_type": "markdown",
   "metadata": {},
   "source": [
    "---"
   ]
  },
  {
   "cell_type": "markdown",
   "metadata": {},
   "source": [
    "# **Model Evaluation**"
   ]
  },
  {
   "cell_type": "code",
   "execution_count": 15,
   "metadata": {},
   "outputs": [],
   "source": [
    "from sklearn.metrics import classification_report\n",
    "from sklearn.metrics import confusion_matrix\n",
    "from sklearn.metrics import accuracy_score"
   ]
  },
  {
   "cell_type": "code",
   "execution_count": 16,
   "metadata": {},
   "outputs": [
    {
     "ename": "SyntaxError",
     "evalue": "incomplete input (2312669474.py, line 3)",
     "output_type": "error",
     "traceback": [
      "\u001b[1;36m  Cell \u001b[1;32mIn[16], line 3\u001b[1;36m\u001b[0m\n\u001b[1;33m    print(classification_report(y_true, y_pred)#, zero_division=1))\u001b[0m\n\u001b[1;37m                                                                   ^\u001b[0m\n\u001b[1;31mSyntaxError\u001b[0m\u001b[1;31m:\u001b[0m incomplete input\n"
     ]
    }
   ],
   "source": [
    "def evaluate_model(y_true, y_pred):\n",
    "    print(\"Accuracy:\", accuracy_score(y_true, y_pred))\n",
    "    print(classification_report(y_true, y_pred)#, zero_division=1))"
   ]
  },
  {
   "cell_type": "code",
   "execution_count": null,
   "metadata": {},
   "outputs": [],
   "source": []
  },
  {
   "cell_type": "code",
   "execution_count": null,
   "metadata": {},
   "outputs": [],
   "source": []
  },
  {
   "cell_type": "code",
   "execution_count": null,
   "metadata": {},
   "outputs": [],
   "source": []
  },
  {
   "cell_type": "code",
   "execution_count": null,
   "metadata": {},
   "outputs": [],
   "source": []
  },
  {
   "cell_type": "code",
   "execution_count": null,
   "metadata": {},
   "outputs": [],
   "source": [
    "    def initial_model_metrics(self, X_test, y_test, y_pred):\n",
    "        \"\"\"\n",
    "        Calculate performance metrics of the initial model on the test set.\n",
    "        \"\"\"\n",
    "        r2 = r2_score(y_test, y_pred)\n",
    "        mae = mean_absolute_error(y_test, y_pred)\n",
    "        rmse = np.sqrt(mean_squared_error(y_test, y_pred))\n",
    "            \n",
    "        initial_metrics = {'Initial_Model': self.selected_model,\n",
    "            \"Mean R^2\": r2, \n",
    "            \"Mean MAE\": mae,\n",
    "            \"Mean RMSE\": rmse}\n",
    "        return initial_metrics"
   ]
  }
 ],
 "metadata": {
  "kernelspec": {
   "display_name": "Python 3",
   "language": "python",
   "name": "python3"
  },
  "language_info": {
   "codemirror_mode": {
    "name": "ipython",
    "version": 3
   },
   "file_extension": ".py",
   "mimetype": "text/x-python",
   "name": "python",
   "nbconvert_exporter": "python",
   "pygments_lexer": "ipython3",
   "version": "3.11.3"
  },
  "orig_nbformat": 4
 },
 "nbformat": 4,
 "nbformat_minor": 2
}
