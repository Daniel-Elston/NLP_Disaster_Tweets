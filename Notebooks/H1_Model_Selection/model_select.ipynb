{
 "cells": [
  {
   "cell_type": "code",
   "execution_count": 1,
   "metadata": {},
   "outputs": [],
   "source": [
    "import sys\n",
    "import os\n",
    "import pickle\n",
    "\n",
    "import pandas as pd\n",
    "import numpy as np\n",
    "import matplotlib.pyplot as plt\n",
    "import seaborn as sns\n",
    "plt.rc('axes', grid=True)\n",
    "\n",
    "from sklearn.naive_bayes import MultinomialNB\n",
    "from sklearn.ensemble import GradientBoostingClassifier\n",
    "from sklearn.ensemble import RandomForestClassifier\n",
    "from sklearn.linear_model import SGDClassifier\n",
    "from sklearn.svm import SVC\n",
    "from lightgbm import LGBMClassifier\n",
    "from xgboost import XGBClassifier\n",
    "\n",
    "from sklearn.model_selection import KFold\n",
    "from sklearn.model_selection import cross_val_score\n",
    "from sklearn.model_selection import StratifiedKFold\n",
    "from sklearn.model_selection import cross_validate\n",
    "\n",
    "from sklearn.metrics import make_scorer\n",
    "from sklearn.metrics import accuracy_score\n",
    "from sklearn.metrics import precision_score\n",
    "from sklearn.metrics import recall_score\n",
    "from sklearn.metrics import f1_score"
   ]
  },
  {
   "cell_type": "code",
   "execution_count": 2,
   "metadata": {},
   "outputs": [],
   "source": [
    "root_dir = 'C:/Users/delst/OneDrive/Desktop/Code/Workspace/NLP_Disaster_Tweets'\n",
    "sys.path.append(root_dir)\n",
    "\n",
    "from A_Root_Dir.Configurations.setup_env import setup_environment\n",
    "config = setup_environment(root_dir)\n",
    "\n",
    "# File Paths\n",
    "sdo_pkl = config.sdo_pkl\n",
    "sdo_parq = config.sdo_parq\n",
    "\n",
    "# Class Imports\n",
    "from Modularization.model_select import ModelSelectionReport"
   ]
  },
  {
   "cell_type": "markdown",
   "metadata": {},
   "source": [
    "---"
   ]
  },
  {
   "cell_type": "code",
   "execution_count": 3,
   "metadata": {},
   "outputs": [],
   "source": [
    "filename = 'f1_preprocessing_train.parquet'\n",
    "path_to_parq_store = os.path.join(sdo_parq, filename)\n",
    "\n",
    "df = pd.read_parquet(path_to_parq_store)"
   ]
  },
  {
   "cell_type": "code",
   "execution_count": 4,
   "metadata": {},
   "outputs": [],
   "source": [
    "glove_features_tokens_file_path = os.path.join(sdo_pkl, 'glove_features_tokens.pkl')\n",
    "glove_features_keyword_file_path = os.path.join(sdo_pkl, 'glove_features_keyword.pkl')\n",
    "numerical_features_file_path = os.path.join(sdo_pkl, 'numerical_features.pkl')\n",
    "\n",
    "with open(glove_features_tokens_file_path, 'rb') as file:\n",
    "    glove_features_tokens = pickle.load(file)\n",
    "    \n",
    "with open(glove_features_keyword_file_path, 'rb') as file:\n",
    "    glove_features_keyword = pickle.load(file)\n",
    "\n",
    "with open(numerical_features_file_path, 'rb') as file:\n",
    "    numerical_features = pickle.load(file)"
   ]
  },
  {
   "cell_type": "code",
   "execution_count": 5,
   "metadata": {},
   "outputs": [
    {
     "name": "stdout",
     "output_type": "stream",
     "text": [
      "(7552, 25)\n",
      "(7552, 25)\n",
      "(7552, 8)\n"
     ]
    }
   ],
   "source": [
    "print(np.shape(glove_features_tokens))\n",
    "print(np.shape(glove_features_keyword))\n",
    "print(np.shape(numerical_features))"
   ]
  },
  {
   "cell_type": "markdown",
   "metadata": {},
   "source": [
    "---"
   ]
  },
  {
   "cell_type": "code",
   "execution_count": 6,
   "metadata": {},
   "outputs": [
    {
     "data": {
      "text/plain": [
       "array([[ 0.    ,  1.    ,  0.    , ...,  4.    , 32.    ,  0.    ],\n",
       "       [ 2.    ,  0.    ,  0.    , ...,  9.    , 43.    ,  0.    ],\n",
       "       [ 1.    ,  0.    ,  0.    , ...,  8.    , 56.    ,  0.    ],\n",
       "       ...,\n",
       "       [ 3.    ,  0.    ,  0.    , ..., 11.    , 67.    ,  0.    ],\n",
       "       [ 0.    ,  1.    ,  0.    , ..., 12.    , 79.    ,  0.6249],\n",
       "       [ 0.    ,  0.    ,  0.    , ...,  9.    , 53.    ,  0.    ]])"
      ]
     },
     "execution_count": 6,
     "metadata": {},
     "output_type": "execute_result"
    }
   ],
   "source": [
    "numerical_features_dropped = np.delete(numerical_features, 7, axis=1)\n",
    "numerical_features_dropped"
   ]
  },
  {
   "cell_type": "code",
   "execution_count": 7,
   "metadata": {},
   "outputs": [],
   "source": [
    "X_train = np.concatenate((glove_features_tokens, glove_features_keyword, numerical_features_dropped), axis=1)\n",
    "Y_train = df['target'].values"
   ]
  },
  {
   "cell_type": "code",
   "execution_count": 8,
   "metadata": {},
   "outputs": [
    {
     "name": "stdout",
     "output_type": "stream",
     "text": [
      "(7552, 57)\n",
      "(7552,)\n"
     ]
    }
   ],
   "source": [
    "print(np.shape(X_train))\n",
    "print(np.shape(Y_train))"
   ]
  },
  {
   "cell_type": "code",
   "execution_count": 9,
   "metadata": {},
   "outputs": [
    {
     "data": {
      "text/plain": [
       "array([[ 0.    ,  1.    ,  0.    , ..., 32.    ,  0.    ,  1.    ],\n",
       "       [ 2.    ,  0.    ,  0.    , ..., 43.    ,  0.    ,  0.    ],\n",
       "       [ 1.    ,  0.    ,  0.    , ..., 56.    ,  0.    ,  1.    ],\n",
       "       ...,\n",
       "       [ 3.    ,  0.    ,  0.    , ..., 67.    ,  0.    ,  0.    ],\n",
       "       [ 0.    ,  1.    ,  0.    , ..., 79.    ,  0.6249,  0.    ],\n",
       "       [ 0.    ,  0.    ,  0.    , ..., 53.    ,  0.    ,  0.    ]])"
      ]
     },
     "execution_count": 9,
     "metadata": {},
     "output_type": "execute_result"
    }
   ],
   "source": [
    "numerical_features"
   ]
  },
  {
   "attachments": {},
   "cell_type": "markdown",
   "metadata": {},
   "source": [
    "---"
   ]
  },
  {
   "cell_type": "code",
   "execution_count": 10,
   "metadata": {},
   "outputs": [],
   "source": [
    "models = {\n",
    "    # 'MultinomialNB': MultinomialNB(),\n",
    "    'SVM': SVC(),\n",
    "    'SGD': SGDClassifier(),\n",
    "    'RandomForest': RandomForestClassifier(max_depth=8, n_estimators=120),\n",
    "    'GBM': GradientBoostingClassifier(),\n",
    "    'LGBM': LGBMClassifier(),\n",
    "    'XGB': XGBClassifier()\n",
    "}"
   ]
  },
  {
   "cell_type": "code",
   "execution_count": 13,
   "metadata": {},
   "outputs": [
    {
     "name": "stdout",
     "output_type": "stream",
     "text": [
      "Model: SVM\n",
      "accuracy: 0.6863\n",
      "precision: 0.7012\n",
      "recall: 0.6863\n",
      "f1_score: 0.6628\n",
      "training_time: 27.4612 seconds\n",
      "\n",
      "Model: SGD\n",
      "accuracy: 0.6777\n",
      "precision: 0.7464\n",
      "recall: 0.6777\n",
      "f1_score: 0.6383\n",
      "training_time: 1.0570 seconds\n",
      "\n",
      "Model: RandomForest\n",
      "accuracy: 0.7893\n",
      "precision: 0.7930\n",
      "recall: 0.7893\n",
      "f1_score: 0.7850\n",
      "training_time: 22.2316 seconds\n",
      "\n",
      "Model: GBM\n",
      "accuracy: 0.7962\n",
      "precision: 0.7971\n",
      "recall: 0.7962\n",
      "f1_score: 0.7936\n",
      "training_time: 75.3748 seconds\n",
      "\n",
      "Model: LGBM\n",
      "accuracy: 0.8048\n",
      "precision: 0.8058\n",
      "recall: 0.8048\n",
      "f1_score: 0.8024\n",
      "training_time: 2.1031 seconds\n",
      "\n",
      "Model: XGB\n",
      "accuracy: 0.7975\n",
      "precision: 0.7974\n",
      "recall: 0.7975\n",
      "f1_score: 0.7957\n",
      "training_time: 6.3727 seconds\n",
      "\n"
     ]
    }
   ],
   "source": [
    "skf = StratifiedKFold(n_splits=9, random_state=42, shuffle=True)\n",
    "\n",
    "classification_report = ModelSelectionReport(models, X_train, Y_train, skf)\n",
    "classification_report.evaluate_models()\n",
    "classification_report.print_report()"
   ]
  },
  {
   "cell_type": "code",
   "execution_count": null,
   "metadata": {},
   "outputs": [],
   "source": []
  }
 ],
 "metadata": {
  "kernelspec": {
   "display_name": "Python 3",
   "language": "python",
   "name": "python3"
  },
  "language_info": {
   "codemirror_mode": {
    "name": "ipython",
    "version": 3
   },
   "file_extension": ".py",
   "mimetype": "text/x-python",
   "name": "python",
   "nbconvert_exporter": "python",
   "pygments_lexer": "ipython3",
   "version": "3.11.3"
  },
  "orig_nbformat": 4
 },
 "nbformat": 4,
 "nbformat_minor": 2
}
